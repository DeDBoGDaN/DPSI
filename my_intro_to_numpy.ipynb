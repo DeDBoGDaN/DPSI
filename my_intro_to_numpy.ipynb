{
  "nbformat": 4,
  "nbformat_minor": 0,
  "metadata": {
    "colab": {
      "provenance": [],
      "collapsed_sections": []
    },
    "kernelspec": {
      "name": "python3",
      "display_name": "Python 3"
    },
    "language_info": {
      "name": "python"
    }
  },
  "cells": [
    {
      "cell_type": "markdown",
      "source": [
        "Доброго дня, Мельничук Богдан ПБ-21мп"
      ],
      "metadata": {
        "id": "vnT4Y3xpBgBt"
      }
    },
    {
      "cell_type": "markdown",
      "source": [
        "На початку роботи підключимо необхідну бібліотеку:"
      ],
      "metadata": {
        "id": "m3zIWXNtB-Rk"
      }
    },
    {
      "cell_type": "code",
      "source": [
        "import numpy as np"
      ],
      "metadata": {
        "id": "hGjAT5XsB9as"
      },
      "execution_count": null,
      "outputs": []
    },
    {
      "cell_type": "markdown",
      "source": [
        "Завдання\n",
        "1. Створити двомірний нульовий масив розміром 11х11 та заповнити його діагоналі одиницями.\n",
        "1.1. Задати розмір масиву"
      ],
      "metadata": {
        "id": "7cEq4TFzBnON"
      }
    },
    {
      "cell_type": "code",
      "source": [
        "size=11"
      ],
      "metadata": {
        "id": "Ef3gpQ_-Bpll"
      },
      "execution_count": null,
      "outputs": []
    },
    {
      "cell_type": "markdown",
      "source": [
        "1.2. Створити нульовий масив заданого розміру"
      ],
      "metadata": {
        "id": "FzAN8PpkByO1"
      }
    },
    {
      "cell_type": "code",
      "source": [
        "arr1=np.zeros((size,size))\n"
      ],
      "metadata": {
        "id": "vBGlsxE0ByxV"
      },
      "execution_count": null,
      "outputs": []
    },
    {
      "cell_type": "markdown",
      "source": [
        "1.3 Надрукувати створений масив"
      ],
      "metadata": {
        "id": "gxe2RiU7DPga"
      }
    },
    {
      "cell_type": "code",
      "source": [
        "print(arr1)"
      ],
      "metadata": {
        "colab": {
          "base_uri": "https://localhost:8080/"
        },
        "id": "G-jliFeHDP9S",
        "outputId": "ff4f95c6-cd43-46bc-cffa-04e7177c8a91"
      },
      "execution_count": null,
      "outputs": [
        {
          "output_type": "stream",
          "name": "stdout",
          "text": [
            "[[0. 0. 0. 0. 0. 0. 0. 0. 0. 0. 0.]\n",
            " [0. 0. 0. 0. 0. 0. 0. 0. 0. 0. 0.]\n",
            " [0. 0. 0. 0. 0. 0. 0. 0. 0. 0. 0.]\n",
            " [0. 0. 0. 0. 0. 0. 0. 0. 0. 0. 0.]\n",
            " [0. 0. 0. 0. 0. 0. 0. 0. 0. 0. 0.]\n",
            " [0. 0. 0. 0. 0. 0. 0. 0. 0. 0. 0.]\n",
            " [0. 0. 0. 0. 0. 0. 0. 0. 0. 0. 0.]\n",
            " [0. 0. 0. 0. 0. 0. 0. 0. 0. 0. 0.]\n",
            " [0. 0. 0. 0. 0. 0. 0. 0. 0. 0. 0.]\n",
            " [0. 0. 0. 0. 0. 0. 0. 0. 0. 0. 0.]\n",
            " [0. 0. 0. 0. 0. 0. 0. 0. 0. 0. 0.]]\n"
          ]
        }
      ]
    },
    {
      "cell_type": "markdown",
      "source": [
        "1.4 Змінити діагоналі за допомогою двох циклів"
      ],
      "metadata": {
        "id": "1acGqbKRDm4y"
      }
    },
    {
      "cell_type": "code",
      "source": [
        "for i in range(size):\n",
        "\tfor j in range(size):\n",
        "\t\tif (i==j):\n",
        "\t\t\tarr1[i][j] = 1\n",
        "\t\t\n",
        "\t\t\t"
      ],
      "metadata": {
        "id": "wpkPEmc0DnYi"
      },
      "execution_count": null,
      "outputs": []
    },
    {
      "cell_type": "markdown",
      "source": [
        "1.5 Вивести створений масив"
      ],
      "metadata": {
        "id": "R6TdRzvvD2LJ"
      }
    },
    {
      "cell_type": "code",
      "source": [
        "print(arr1)"
      ],
      "metadata": {
        "colab": {
          "base_uri": "https://localhost:8080/"
        },
        "id": "f3ZJCA-nD3_J",
        "outputId": "0e90ee6c-f5f3-4dca-d737-bc0671b413db"
      },
      "execution_count": null,
      "outputs": [
        {
          "output_type": "stream",
          "name": "stdout",
          "text": [
            "[[1. 0. 0. 0. 0. 0. 0. 0. 0. 0. 0.]\n",
            " [0. 1. 0. 0. 0. 0. 0. 0. 0. 0. 0.]\n",
            " [0. 0. 1. 0. 0. 0. 0. 0. 0. 0. 0.]\n",
            " [0. 0. 0. 1. 0. 0. 0. 0. 0. 0. 0.]\n",
            " [0. 0. 0. 0. 1. 0. 0. 0. 0. 0. 0.]\n",
            " [0. 0. 0. 0. 0. 1. 0. 0. 0. 0. 0.]\n",
            " [0. 0. 0. 0. 0. 0. 1. 0. 0. 0. 0.]\n",
            " [0. 0. 0. 0. 0. 0. 0. 1. 0. 0. 0.]\n",
            " [0. 0. 0. 0. 0. 0. 0. 0. 1. 0. 0.]\n",
            " [0. 0. 0. 0. 0. 0. 0. 0. 0. 1. 0.]\n",
            " [0. 0. 0. 0. 0. 0. 0. 0. 0. 0. 1.]]\n"
          ]
        }
      ]
    },
    {
      "cell_type": "markdown",
      "source": [
        "Також існує ще один спосіб, який потребує набагато менше рядків коду:"
      ],
      "metadata": {
        "id": "ZI4-4dYVECDZ"
      }
    },
    {
      "cell_type": "code",
      "source": [
        "arr2=(np.eye(11))\n",
        "print(arr2)"
      ],
      "metadata": {
        "colab": {
          "base_uri": "https://localhost:8080/"
        },
        "id": "g71Y8K3qEHO6",
        "outputId": "c65dc0d9-3070-4dea-9892-5ca0e56e29b0"
      },
      "execution_count": null,
      "outputs": [
        {
          "output_type": "stream",
          "name": "stdout",
          "text": [
            "[[1. 0. 0. 0. 0. 0. 0. 0. 0. 0. 0.]\n",
            " [0. 1. 0. 0. 0. 0. 0. 0. 0. 0. 0.]\n",
            " [0. 0. 1. 0. 0. 0. 0. 0. 0. 0. 0.]\n",
            " [0. 0. 0. 1. 0. 0. 0. 0. 0. 0. 0.]\n",
            " [0. 0. 0. 0. 1. 0. 0. 0. 0. 0. 0.]\n",
            " [0. 0. 0. 0. 0. 1. 0. 0. 0. 0. 0.]\n",
            " [0. 0. 0. 0. 0. 0. 1. 0. 0. 0. 0.]\n",
            " [0. 0. 0. 0. 0. 0. 0. 1. 0. 0. 0.]\n",
            " [0. 0. 0. 0. 0. 0. 0. 0. 1. 0. 0.]\n",
            " [0. 0. 0. 0. 0. 0. 0. 0. 0. 1. 0.]\n",
            " [0. 0. 0. 0. 0. 0. 0. 0. 0. 0. 1.]]\n"
          ]
        }
      ]
    },
    {
      "cell_type": "markdown",
      "source": [
        "# Засобами NumPy створити вертикальні та горизонтальні зображення градієнту в обидва боки (поступове збільшення яскравості на зображенні)."
      ],
      "metadata": {
        "id": "oPUDGUBcIw7Q"
      }
    },
    {
      "cell_type": "markdown",
      "metadata": {
        "id": "8iQO30NacvSi"
      },
      "source": [
        "## 2. Засобами NumPy створити вертикальні та горизонтальні зображення градієнту в обидва боки (поступове збільшення яскравості на зображенні).\n",
        "\n",
        "Приклад зображення градієнту\n",
        "<img src=\"./assignments/horizontal_grad.jpg\" height=\"200\" width=\"200\">"
      ]
    },
    {
      "cell_type": "markdown",
      "metadata": {
        "id": "iaNBkcfxcvSi"
      },
      "source": [
        "### Горизонтальний градієнт"
      ]
    },
    {
      "cell_type": "markdown",
      "metadata": {
        "id": "7BCX1_U_cvSi"
      },
      "source": [
        "2.1 Створити нульовий масив розміром 255х255"
      ]
    },
    {
      "cell_type": "code",
      "execution_count": null,
      "metadata": {
        "id": "I7kKKyRdcvSj"
      },
      "outputs": [],
      "source": [
        "horizontal_gradient1 = np.zeros((255,255))"
      ]
    },
    {
      "cell_type": "markdown",
      "metadata": {
        "id": "ktgwACGOcvSj"
      },
      "source": [
        "2.2 Визначити розміри масиву"
      ]
    },
    {
      "cell_type": "code",
      "execution_count": null,
      "metadata": {
        "id": "-iDT155ucvSj",
        "colab": {
          "base_uri": "https://localhost:8080/"
        },
        "outputId": "a7ce5907-dabb-4448-d9a8-6f392e1c2e8f"
      },
      "outputs": [
        {
          "output_type": "execute_result",
          "data": {
            "text/plain": [
              "255"
            ]
          },
          "metadata": {},
          "execution_count": 9
        }
      ],
      "source": [
        "w = horizontal_gradient1.shape[1]\n",
        "h = horizontal_gradient1.shape[0]\n",
        "w"
      ]
    },
    {
      "cell_type": "markdown",
      "metadata": {
        "id": "34z4__UfcvSj"
      },
      "source": [
        "2.3 Поелементно змінити яскравості кожного пікселя"
      ]
    },
    {
      "cell_type": "code",
      "execution_count": null,
      "metadata": {
        "id": "R9ld4d1IcvSk"
      },
      "outputs": [],
      "source": [
        "for i in range(h):\n",
        "    for j in range(w):\n",
        "        horizontal_gradient1[i][j] = j"
      ]
    },
    {
      "cell_type": "markdown",
      "metadata": {
        "id": "-fPceXQ-cvSk"
      },
      "source": [
        "2.4 Записати зображення засабами OpenCV"
      ]
    },
    {
      "cell_type": "code",
      "execution_count": null,
      "metadata": {
        "id": "aoaoZTdXcvSk",
        "colab": {
          "base_uri": "https://localhost:8080/"
        },
        "outputId": "b96b8813-62c4-469f-d233-8f6666132332"
      },
      "outputs": [
        {
          "output_type": "execute_result",
          "data": {
            "text/plain": [
              "True"
            ]
          },
          "metadata": {},
          "execution_count": 11
        }
      ],
      "source": [
        "import cv2\n",
        "cv2.imwrite('horizontal_grad1.jpg', horizontal_gradient1)"
      ]
    },
    {
      "cell_type": "code",
      "source": [
        "from IPython.display import Image\n",
        "Image('horizontal_grad1.jpg')"
      ],
      "metadata": {
        "colab": {
          "base_uri": "https://localhost:8080/",
          "height": 272
        },
        "id": "bJnAXTKHfADQ",
        "outputId": "4e8ee6e8-48ad-4998-fc93-cc2cbe8428a7"
      },
      "execution_count": null,
      "outputs": [
        {
          "output_type": "execute_result",
          "data": {
            "image/jpeg": "[encoded data removed]",
            "text/plain": [
              "<IPython.core.display.Image object>"
            ]
          },
          "metadata": {},
          "execution_count": 12
        }
      ]
    },
    {
      "cell_type": "markdown",
      "metadata": {
        "id": "_5IfLcMGcvSk"
      },
      "source": [
        "2.5 Аналогічно створити горизонтальний градієнт в інший бік"
      ]
    },
    {
      "cell_type": "code",
      "execution_count": null,
      "metadata": {
        "id": "pFfebZ0PcvSl",
        "colab": {
          "base_uri": "https://localhost:8080/",
          "height": 272
        },
        "outputId": "af8b8ca3-e7f5-45ef-ceb4-6732fc1e3293"
      },
      "outputs": [
        {
          "output_type": "execute_result",
          "data": {
            "image/jpeg": "[encoded data removed]",
            "text/plain": [
              "<IPython.core.display.Image object>"
            ]
          },
          "metadata": {},
          "execution_count": 13
        }
      ],
      "source": [
        "horizontal_gradient2 = np.zeros((255,255))\n",
        "\n",
        "w = horizontal_gradient2.shape[1]\n",
        "h = horizontal_gradient2.shape[0]\n",
        "for i in range(h):\n",
        "    for j in range(w):\n",
        "        horizontal_gradient2[i][j] =w-j\n",
        "        \n",
        "cv2.imwrite('horizontal_grad2.jpg', horizontal_gradient2)\n",
        "Image('horizontal_grad2.jpg')"
      ]
    },
    {
      "cell_type": "markdown",
      "metadata": {
        "id": "IcmJySVicvSl"
      },
      "source": [
        "### Вертикальний градієнт"
      ]
    },
    {
      "cell_type": "markdown",
      "metadata": {
        "id": "sEHSQT9hcvSl"
      },
      "source": [
        "2.6 Створити нульовий масив розміром 255х255"
      ]
    },
    {
      "cell_type": "code",
      "execution_count": null,
      "metadata": {
        "id": "dyqUBZtIcvSl"
      },
      "outputs": [],
      "source": [
        "vertical_gradient1 = np.zeros((255,255))"
      ]
    },
    {
      "cell_type": "markdown",
      "metadata": {
        "id": "-D71CNsScvSl"
      },
      "source": [
        "2.7 Визначити розміри масиву"
      ]
    },
    {
      "cell_type": "code",
      "execution_count": null,
      "metadata": {
        "id": "JCtx_iZKcvSm"
      },
      "outputs": [],
      "source": [
        "w = vertical_gradient1.shape[1]\n",
        "h = vertical_gradient1.shape[0]"
      ]
    },
    {
      "cell_type": "markdown",
      "metadata": {
        "id": "9kPL0-PScvSm"
      },
      "source": [
        "2.8 Поелементно змінити яскравості кожного пікселя"
      ]
    },
    {
      "cell_type": "code",
      "execution_count": null,
      "metadata": {
        "id": "POOtROlScvSm"
      },
      "outputs": [],
      "source": [
        "for i in range(h):\n",
        "    for j in range(w):\n",
        "        vertical_gradient1[i][j] = i"
      ]
    },
    {
      "cell_type": "markdown",
      "metadata": {
        "id": "Fn1VO4G2cvSm"
      },
      "source": [
        "2.9 Записати зображення засабами OpenCV"
      ]
    },
    {
      "cell_type": "code",
      "execution_count": null,
      "metadata": {
        "id": "yrwGxusNcvSn",
        "colab": {
          "base_uri": "https://localhost:8080/",
          "height": 272
        },
        "outputId": "993e8223-be92-4e0f-9c1a-267193d1f1ea"
      },
      "outputs": [
        {
          "output_type": "execute_result",
          "data": {
            "image/jpeg": "[encoded data removed]",
            "text/plain": [
              "<IPython.core.display.Image object>"
            ]
          },
          "metadata": {},
          "execution_count": 17
        }
      ],
      "source": [
        "cv2.imwrite('vertical_grad1.jpg', vertical_gradient1)\n",
        "Image('vertical_grad1.jpg')"
      ]
    },
    {
      "cell_type": "markdown",
      "metadata": {
        "id": "5-A0yx1hcvSn"
      },
      "source": [
        "2.10 Аналогічно створити горизонтальний градієнт в інший бік"
      ]
    },
    {
      "cell_type": "code",
      "execution_count": null,
      "metadata": {
        "id": "0JcKpFDacvSn",
        "colab": {
          "base_uri": "https://localhost:8080/",
          "height": 272
        },
        "outputId": "9fb728ac-38e5-4b14-f785-6c6ee3d29ab8"
      },
      "outputs": [
        {
          "output_type": "execute_result",
          "data": {
            "image/jpeg": "[encoded data removed]",
            "text/plain": [
              "<IPython.core.display.Image object>"
            ]
          },
          "metadata": {},
          "execution_count": 18
        }
      ],
      "source": [
        "vertical_gradient2 = np.zeros((255,255))\n",
        "\n",
        "w = vertical_gradient2.shape[1]\n",
        "h = vertical_gradient2.shape[0]\n",
        "\n",
        "for i in range(h):\n",
        "    for j in range(w):\n",
        "        vertical_gradient2[i][j] = h-i\n",
        "        \n",
        "cv2.imwrite('vertical_grad2.jpg', vertical_gradient2)\n",
        "Image('vertical_grad2.jpg')"
      ]
    }
  ]
}